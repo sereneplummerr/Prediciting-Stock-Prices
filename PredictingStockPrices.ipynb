{
 "cells": [
  {
   "cell_type": "markdown",
   "id": "cd2fdbfc",
   "metadata": {},
   "source": [
    "# Apple (AAPL) Stock Price Prediction Using Past 30 Days Data"
   ]
  },
  {
   "cell_type": "code",
   "execution_count": null,
   "id": "30ac02c9",
   "metadata": {},
   "outputs": [],
   "source": [
    "import csv\n",
    "import numpy as np\n",
    "from sklearn.svm import SVR\n",
    "import matplotlib.pyplot as plt\n",
    "\n",
    "dates = []\n",
    "prices = []\n",
    "\n",
    "def get_data(filename):\n",
    "    with open(filename, 'r') as csvfile:\n",
    "        csvFileReader = csv.reader(csvfile)\n",
    "        next(csvFileReader)\n",
    "        for row in csvFileReader:\n",
    "            dates.append(int(row[0].split('-')[0]))\n",
    "            prices.append(float(row[1]))\n",
    "    return\n",
    "\n",
    "def predict_prices(dates, prices, x):\n",
    "    dates = np.reshape(dates, (len(dates),))\n",
    "\n"
   ]
  }
 ],
 "metadata": {
  "kernelspec": {
   "display_name": "base",
   "language": "python",
   "name": "python3"
  },
  "language_info": {
   "codemirror_mode": {
    "name": "ipython",
    "version": 3
   },
   "file_extension": ".py",
   "mimetype": "text/x-python",
   "name": "python",
   "nbconvert_exporter": "python",
   "pygments_lexer": "ipython3",
   "version": "3.12.7"
  }
 },
 "nbformat": 4,
 "nbformat_minor": 5
}
